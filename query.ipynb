{
 "cells": [
  {
   "cell_type": "code",
   "execution_count": 1,
   "metadata": {},
   "outputs": [],
   "source": [
    "import json\n",
    "import psycopg\n",
    "import pprint\n",
    "import pandas as pd"
   ]
  },
  {
   "cell_type": "code",
   "execution_count": null,
   "metadata": {},
   "outputs": [],
   "source": [
    "# Read the JSON file as byte stream and load it into Python object using load()\n",
    "with open('database.json', 'rb') as fb:\n",
    "    db_info = json.load(fb)\n"
   ]
  },
  {
   "cell_type": "code",
   "execution_count": null,
   "metadata": {},
   "outputs": [],
   "source": [
    "contracts = {\n",
    "    'VN30F2101': ('2020-12-18', '2021-01-21'),\n",
    "    'VN30F2102': ('2021-01-15', '2021-02-18'),\n",
    "    'VN30F2103': ('2021-02-19', '2021-03-18'),\n",
    "    'VN30F2104': ('2021-03-19', '2021-04-15'),\n",
    "    'VN30F2105': ('2021-04-16', '2021-05-20'),\n",
    "    'VN30F2106': ('2021-05-21', '2021-06-17'),\n",
    "    'VN30F2107': ('2021-06-18', '2021-07-15'),\n",
    "    'VN30F2108': ('2021-07-16', '2021-08-19'),\n",
    "    'VN30F2109': ('2021-08-20', '2021-09-16'),\n",
    "    'VN30F2110': ('2021-09-17', '2021-10-21'),\n",
    "    'VN30F2111': ('2021-10-15', '2021-11-18'),\n",
    "    'VN30F2112': ('2021-11-19', '2021-12-16'),\n",
    "    'VN30F2201': ('2021-12-17', '2022-01-20'),\n",
    "    'VN30F2202': ('2022-01-21', '2022-02-17'),\n",
    "    'VN30F2203': ('2022-02-18', '2022-03-17'),\n",
    "    'VN30F2204': ('2022-03-18', '2022-04-21'),\n",
    "    'VN30F2205': ('2022-04-15', '2022-05-19'),\n",
    "    'VN30F2206': ('2022-05-20', '2022-06-16'),\n",
    "    'VN30F2207': ('2022-06-17', '2022-07-21'),\n",
    "    'VN30F2208': ('2022-07-15', '2022-08-18'),\n",
    "    'VN30F2209': ('2022-08-19', '2022-09-15'),\n",
    "    'VN30F2210': ('2022-09-16', '2022-10-20'),\n",
    "    'VN30F2211': ('2022-10-21', '2022-11-17'),\n",
    "    'VN30F2212': ('2022-11-18', '2022-12-15'),\n",
    "    'VN30F2301': ('2022-12-16', '2023-01-19'),\n",
    "    'VN30F2302': ('2023-01-20', '2023-02-16'),\n",
    "    'VN30F2303': ('2023-02-17', '2023-03-16'),\n",
    "    'VN30F2304': ('2023-03-17', '2023-04-20'),\n",
    "    'VN30F2305': ('2023-04-21', '2023-05-18'),\n",
    "    'VN30F2306': ('2023-05-19', '2023-06-15'),\n",
    "    'VN30F2307': ('2023-06-16', '2023-07-20'),\n",
    "    'VN30F2308': ('2023-07-21', '2023-08-17'),\n",
    "    'VN30F2309': ('2023-08-18', '2023-09-21'),\n",
    "    'VN30F2310': ('2023-09-15', '2023-10-19'),\n",
    "    'VN30F2311': ('2023-10-20', '2023-11-16'),\n",
    "    'VN30F2312': ('2023-11-17', '2023-12-21')\n",
    "}\n",
    "\n",
    "# Create an empty list to store the results\n",
    "all_data = []\n",
    "\n",
    "with psycopg.connect(\n",
    "    host=db_info['host'],\n",
    "    port=db_info['port'],\n",
    "    dbname=db_info['database'],\n",
    "    user=db_info['user'],\n",
    "    password=db_info['password']\n",
    ") as conn:\n",
    "    with conn.cursor() as cur:\n",
    "        for symbol, (start_date, end_date) in contracts.items():\n",
    "            cur.execute(\"\"\"\n",
    "                SELECT m.datetime, m.tickersymbol, m.price, v.quantity\n",
    "                FROM \"quote\".\"matched\" m\n",
    "                LEFT JOIN \"quote\".\"total\" v\n",
    "                ON m.tickersymbol = v.tickersymbol AND m.datetime = v.datetime\n",
    "                WHERE m.datetime BETWEEN %s AND %s\n",
    "                AND m.tickersymbol = %s\n",
    "            \"\"\", (start_date, end_date, symbol))\n",
    "            \n",
    "            rows = cur.fetchall()\n",
    "            all_data.extend(rows)  # Add result to list\n",
    "\n",
    "# Convert the list of tuples into a DataFrame\n",
    "df = pd.DataFrame(all_data, columns=['datetime', 'tickersymbol', 'price', 'quantity'])\n",
    "\n",
    "df"
   ]
  },
  {
   "cell_type": "code",
   "execution_count": null,
   "metadata": {},
   "outputs": [],
   "source": [
    "df[df['quantity'].isna()]"
   ]
  },
  {
   "cell_type": "code",
   "execution_count": null,
   "metadata": {},
   "outputs": [],
   "source": [
    "df"
   ]
  },
  {
   "cell_type": "code",
   "execution_count": 8,
   "metadata": {},
   "outputs": [],
   "source": [
    "df.to_csv(\"df.csv\", index= False)"
   ]
  }
 ],
 "metadata": {
  "kernelspec": {
   "display_name": "Python 3",
   "language": "python",
   "name": "python3"
  },
  "language_info": {
   "codemirror_mode": {
    "name": "ipython",
    "version": 3
   },
   "file_extension": ".py",
   "mimetype": "text/x-python",
   "name": "python",
   "nbconvert_exporter": "python",
   "pygments_lexer": "ipython3",
   "version": "3.9.6"
  }
 },
 "nbformat": 4,
 "nbformat_minor": 2
}
